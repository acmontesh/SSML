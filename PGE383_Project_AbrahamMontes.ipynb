{
 "cells": [
  {
   "cell_type": "markdown",
   "metadata": {},
   "source": [
    "<p align=\"center\">\n",
    "    <img src=\"https://github.com/GeostatsGuy/GeostatsPy/blob/master/TCG_color_logo.png?raw=true\" width=\"220\" height=\"240\" />\n",
    "\n",
    "</p>\n",
    "\n",
    "## Global Ensemble Shapley Values\n",
    "\n",
    "#### Abraham Montes\n",
    "##### [LinkedIn](https://www.linkedin.com/in/abraham-montes-humanez-6661a841/) | [GitHub](https://github.com/acmontesh) | [GoogleScholar](https://scholar.google.com/citations?user=Va0vQdsAAAAJ&hl=es)\n",
    "#### Hildebrand Department of Petroleum and Geosystems Engineering, Cockrell School of Engineering\n",
    "\n",
    "### Subsurface Machine Learning Course, The University of Texas at Austin\n",
    "#### Hildebrand Department of Petroleum and Geosystems Engineering, Cockrell School of Engineering\n",
    "#### Department of Geological Sciences, Jackson School of Geosciences\n",
    "\n",
    "\n",
    "\n",
    "\n",
    "_____________________\n",
    "\n",
    "Workflow supervision and review by:\n",
    "\n",
    "#### Instructor: Prof. Michael Pyrcz, Ph.D., P.Eng., Associate Professor, The Univeristy of Texas at Austin\n",
    "##### [Twitter](https://twitter.com/geostatsguy) | [GitHub](https://github.com/GeostatsGuy) | [Website](http://michaelpyrcz.com) | [GoogleScholar](https://scholar.google.com/citations?user=QVZ20eQAAAAJ&hl=en&oi=ao) | [Book](https://www.amazon.com/Geostatistical-Reservoir-Modeling-Michael-Pyrcz/dp/0199731446) | [YouTube](https://www.youtube.com/channel/UCLqEr-xV-ceHdXXXrTId5ig)  | [LinkedIn](https://www.linkedin.com/in/michael-pyrcz-61a648a1)\n",
    "\n",
    "#### Course TA: Misael Morales, Graduate Student, The University of Texas at Austin\n",
    "##### [LinkedIn](https://www.linkedin.com/in/misaelmmorales/)\n"
   ]
  },
  {
   "cell_type": "markdown",
   "metadata": {},
   "source": [
    "### Executive Summary\n",
    "\n",
    "* What is the gap, problem, opportunity, scientific question?\n",
    "\n",
    "* What was done to address the above?\n",
    "\n",
    "* What was learned?\n",
    "\n",
    "* What are your recommendations?\n",
    "\n",
    "**Guidance**: Write as a single paragraph with 4 or so well-writen sentences."
   ]
  },
  {
   "cell_type": "markdown",
   "metadata": {},
   "source": [
    "### Import Packages\n",
    "\n"
   ]
  },
  {
   "cell_type": "code",
   "execution_count": 1,
   "metadata": {},
   "outputs": [
    {
     "name": "stderr",
     "output_type": "stream",
     "text": [
      "c:\\Python310\\lib\\site-packages\\tqdm\\auto.py:22: TqdmWarning: IProgress not found. Please update jupyter and ipywidgets. See https://ipywidgets.readthedocs.io/en/stable/user_install.html\n",
      "  from .autonotebook import tqdm as notebook_tqdm\n"
     ]
    }
   ],
   "source": [
    "import numpy as np                  #For arrays manipulation\n",
    "import shap                         #For shapley values calculation\n",
    "import matplotlib.pyplot as plt     #For plotting"
   ]
  },
  {
   "cell_type": "markdown",
   "metadata": {},
   "source": [
    "### Functions\n"
   ]
  },
  {
   "cell_type": "code",
   "execution_count": null,
   "metadata": {},
   "outputs": [],
   "source": []
  },
  {
   "cell_type": "markdown",
   "metadata": {},
   "source": [
    "### Load Data\n",
    "\n",
    "The following workflow applies the .csv file 'Well_5832_data.csv', an exerpt of a real dataset containing the average of sensors reading per foot of hole drilled in geothermal wells in the state of Utah. The exerpt is available [here](http://www.hasthelargehadroncolliderdestroyedtheworldyet.com/). The complete dataset is publically available [here](https://gdr.openei.org/submissions/1113)  \n",
    "\n",
    "We will work with the following features:\n",
    "\n",
    "* **porosity** - fraction of rock void in units of percentage\n",
    "* **permeability** - ability of a fluid to flow through the rock in mil;iDarcy\n",
    "* **acoustic impedence** - product of sonic velocity and rock density in unitsof $kg/m^2s*10^3$\n",
    "\n",
    "```python\n",
    "my_data = pd.read_csv(r\"https://raw.githubusercontent.com/GeostatsGuy/GeoDataSets/master/unconv_MV.csv\") # load the comma delimited data file from Dr. Pyrcz's GeoDataSets GitHub repository\n",
    "my_data = my_data.iloc[:,6:8]                             # copy all rows and columns 1 through 8, note 0 column is removed\n",
    "```\n"
   ]
  },
  {
   "cell_type": "markdown",
   "metadata": {},
   "source": [
    "### Name of My Workflow\n",
    "\n",
    "A short summary of your workflow. This is a suggestion. The main thing is to be clear and concise. Easy to follow!\n",
    "\n",
    "1. If helpful, you could include\n",
    "\n",
    "2. enumeration\n",
    "\n",
    "### 1. Name Your First Workflow Step\n",
    "\n",
    "This is a short summary of this step.\n",
    "\n",
    "Short Markdown block, code, concise and essential output summaries, repeat  \n",
    "\n",
    "### 2. Name Your Second Workflow Step\n",
    "\n",
    "Repeat as needed\n",
    "\n",
    "### Results\n",
    "\n",
    "Final summary of results, include table (DataFrame) and / plots, answer the problem and demonstrate the work stated in the executive summary.\n",
    "\n",
    "### Parting Comments / Promote You\n",
    "\n",
    "Consider adding any information to promote your capabilities, interest in internships, full-time positions. \n",
    "\n",
    "* This workflow will be shared / posted online and will promote you. \n",
    "\n",
    "* It is optional to retain my information below yours. This may also provide some ideas.\n"
   ]
  },
  {
   "cell_type": "markdown",
   "metadata": {},
   "source": [
    "\n",
    "I hope this was helpful,\n",
    "\n",
    "*You name*\n",
    "\n",
    "___________________\n",
    "\n",
    "#### Work Supervised by:\n",
    "\n",
    "### Michael Pyrcz, Associate Professor, University of Texas at Austin \n",
    "*Novel Data Analytics, Geostatistics and Machine Learning Subsurface Solutions*\n",
    "\n",
    "With over 17 years of experience in subsurface consulting, research and development, Michael has returned to academia driven by his passion for teaching and enthusiasm for enhancing engineers' and geoscientists' impact in subsurface resource development. \n",
    "\n",
    "For more about Michael check out these links:\n",
    "\n",
    "#### [Twitter](https://twitter.com/geostatsguy) | [GitHub](https://github.com/GeostatsGuy) | [Website](http://michaelpyrcz.com) | [GoogleScholar](https://scholar.google.com/citations?user=QVZ20eQAAAAJ&hl=en&oi=ao) | [Book](https://www.amazon.com/Geostatistical-Reservoir-Modeling-Michael-Pyrcz/dp/0199731446) | [YouTube](https://www.youtube.com/channel/UCLqEr-xV-ceHdXXXrTId5ig)  | [LinkedIn](https://www.linkedin.com/in/michael-pyrcz-61a648a1)\n",
    "\n",
    "#### Want to Work Together?\n",
    "\n",
    "I hope this content is helpful to those that want to learn more about subsurface modeling, data analytics and machine learning. Students and working professionals are welcome to participate.\n",
    "\n",
    "* Want to invite me to visit your company for training, mentoring, project review, workflow design and / or consulting? I'd be happy to drop by and work with you! \n",
    "\n",
    "* Interested in partnering, supporting my graduate student research or my Subsurface Data Analytics and Machine Learning consortium (co-PIs including Profs. Foster, Torres-Verdin and van Oort)? My research combines data analytics, stochastic modeling and machine learning theory with practice to develop novel methods and workflows to add value. We are solving challenging subsurface problems!\n",
    "\n",
    "* I can be reached at mpyrcz@austin.utexas.edu.\n",
    "\n",
    "I'm always happy to discuss,\n",
    "\n",
    "*Michael*\n",
    "\n",
    "Michael Pyrcz, Ph.D., P.Eng. Associate Professor The Hildebrand Department of Petroleum and Geosystems Engineering, Bureau of Economic Geology, The Jackson School of Geosciences, The University of Texas at Austin\n"
   ]
  },
  {
   "cell_type": "code",
   "execution_count": null,
   "metadata": {},
   "outputs": [],
   "source": []
  }
 ],
 "metadata": {
  "kernelspec": {
   "display_name": "Python 3.10.4 64-bit",
   "language": "python",
   "name": "python3"
  },
  "language_info": {
   "codemirror_mode": {
    "name": "ipython",
    "version": 3
   },
   "file_extension": ".py",
   "mimetype": "text/x-python",
   "name": "python",
   "nbconvert_exporter": "python",
   "pygments_lexer": "ipython3",
   "version": "3.10.4"
  },
  "vscode": {
   "interpreter": {
    "hash": "369f2c481f4da34e4445cda3fffd2e751bd1c4d706f27375911949ba6bb62e1c"
   }
  }
 },
 "nbformat": 4,
 "nbformat_minor": 4
}
